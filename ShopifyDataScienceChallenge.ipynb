{
 "cells": [
  {
   "cell_type": "markdown",
   "id": "waiting-compensation",
   "metadata": {},
   "source": [
    "# Winter 2022 Data Science Intern Challenge \n",
    "\n",
    "## By: Christopher \"Kai\" Painton\n",
    "### Date: 9/15/21\n",
    "\n",
    "Please complete the following questions, and provide your thought process/work. You can attach your work in a text file, link, etc. on the application page. Please ensure answers are easily visible for reviewers!\n",
    "\n",
    "\n",
    "## Question 1: Given some sample data, write a program to answer the following: click here to access the required data set\n",
    "\n",
    "On Shopify, we have exactly 100 sneaker shops, and each of these shops sells only one model of shoe. We want to do some analysis of the average order value (AOV). When we look at orders data over a 30 day window, we naively calculate an AOV of $3145.13. Given that we know these shops are selling sneakers, a relatively affordable item, something seems wrong with our analysis. "
   ]
  },
  {
   "cell_type": "markdown",
   "id": "viral-classic",
   "metadata": {},
   "source": [
    "## 1. Think about what could be going wrong with our calculation. Think about a better way to evaluate this data. \n",
    "\n",
    "Our first step should to be investigate the issues that are creating this unexpected, high AOV value"
   ]
  },
  {
   "cell_type": "code",
   "execution_count": 1,
   "id": "sealed-secret",
   "metadata": {},
   "outputs": [],
   "source": [
    "# We'll start by importating the necessary packages \n",
    "import pandas as pd\n",
    "import numpy as np\n",
    "import matplotlib.pyplot as plt\n",
    "import seaborn as sns\n",
    "import datetime"
   ]
  },
  {
   "cell_type": "code",
   "execution_count": 2,
   "id": "working-probability",
   "metadata": {},
   "outputs": [
    {
     "data": {
      "text/html": [
       "<div>\n",
       "<style scoped>\n",
       "    .dataframe tbody tr th:only-of-type {\n",
       "        vertical-align: middle;\n",
       "    }\n",
       "\n",
       "    .dataframe tbody tr th {\n",
       "        vertical-align: top;\n",
       "    }\n",
       "\n",
       "    .dataframe thead th {\n",
       "        text-align: right;\n",
       "    }\n",
       "</style>\n",
       "<table border=\"1\" class=\"dataframe\">\n",
       "  <thead>\n",
       "    <tr style=\"text-align: right;\">\n",
       "      <th></th>\n",
       "      <th>order_id</th>\n",
       "      <th>shop_id</th>\n",
       "      <th>user_id</th>\n",
       "      <th>order_amount</th>\n",
       "      <th>total_items</th>\n",
       "      <th>payment_method</th>\n",
       "      <th>created_at</th>\n",
       "    </tr>\n",
       "  </thead>\n",
       "  <tbody>\n",
       "    <tr>\n",
       "      <th>0</th>\n",
       "      <td>1</td>\n",
       "      <td>53</td>\n",
       "      <td>746</td>\n",
       "      <td>224</td>\n",
       "      <td>2</td>\n",
       "      <td>cash</td>\n",
       "      <td>2017-03-13 12:36:56</td>\n",
       "    </tr>\n",
       "    <tr>\n",
       "      <th>1</th>\n",
       "      <td>2</td>\n",
       "      <td>92</td>\n",
       "      <td>925</td>\n",
       "      <td>90</td>\n",
       "      <td>1</td>\n",
       "      <td>cash</td>\n",
       "      <td>2017-03-03 17:38:52</td>\n",
       "    </tr>\n",
       "    <tr>\n",
       "      <th>2</th>\n",
       "      <td>3</td>\n",
       "      <td>44</td>\n",
       "      <td>861</td>\n",
       "      <td>144</td>\n",
       "      <td>1</td>\n",
       "      <td>cash</td>\n",
       "      <td>2017-03-14 4:23:56</td>\n",
       "    </tr>\n",
       "    <tr>\n",
       "      <th>3</th>\n",
       "      <td>4</td>\n",
       "      <td>18</td>\n",
       "      <td>935</td>\n",
       "      <td>156</td>\n",
       "      <td>1</td>\n",
       "      <td>credit_card</td>\n",
       "      <td>2017-03-26 12:43:37</td>\n",
       "    </tr>\n",
       "    <tr>\n",
       "      <th>4</th>\n",
       "      <td>5</td>\n",
       "      <td>18</td>\n",
       "      <td>883</td>\n",
       "      <td>156</td>\n",
       "      <td>1</td>\n",
       "      <td>credit_card</td>\n",
       "      <td>2017-03-01 4:35:11</td>\n",
       "    </tr>\n",
       "  </tbody>\n",
       "</table>\n",
       "</div>"
      ],
      "text/plain": [
       "   order_id  shop_id  user_id  order_amount  total_items payment_method  \\\n",
       "0         1       53      746           224            2           cash   \n",
       "1         2       92      925            90            1           cash   \n",
       "2         3       44      861           144            1           cash   \n",
       "3         4       18      935           156            1    credit_card   \n",
       "4         5       18      883           156            1    credit_card   \n",
       "\n",
       "            created_at  \n",
       "0  2017-03-13 12:36:56  \n",
       "1  2017-03-03 17:38:52  \n",
       "2   2017-03-14 4:23:56  \n",
       "3  2017-03-26 12:43:37  \n",
       "4   2017-03-01 4:35:11  "
      ]
     },
     "execution_count": 2,
     "metadata": {},
     "output_type": "execute_result"
    }
   ],
   "source": [
    "# We'll read in the data and take a small look at the structure\n",
    "shoe_data = pd.read_csv('DataChallengeShopify.csv')\n",
    "shoe_data.head()"
   ]
  },
  {
   "cell_type": "markdown",
   "id": "advised-oakland",
   "metadata": {},
   "source": [
    "It looks like our data contains three id fields, the total cost of the order, the total items of the order, the payment method that was used, and when the transaction was created.  Let's take a look at the distribution of the total order amount."
   ]
  },
  {
   "cell_type": "code",
   "execution_count": 3,
   "id": "irish-brooks",
   "metadata": {},
   "outputs": [
    {
     "data": {
      "text/plain": [
       "count      5000.000000\n",
       "mean       3145.128000\n",
       "std       41282.539349\n",
       "min          90.000000\n",
       "25%         163.000000\n",
       "50%         284.000000\n",
       "75%         390.000000\n",
       "max      704000.000000\n",
       "Name: order_amount, dtype: float64"
      ]
     },
     "execution_count": 3,
     "metadata": {},
     "output_type": "execute_result"
    }
   ],
   "source": [
    "# Gathers the intervals of the order amount for the shoe data\n",
    "shoe_data['order_amount'].describe()"
   ]
  },
  {
   "cell_type": "markdown",
   "id": "welsh-greensboro",
   "metadata": {},
   "source": [
    "The max amount from a sneaker order totals $704,000, significantly larger than our median and mean. This indicates that our data is right skewed and can lead to three possible conclusions: <br/>\n",
    "\n",
    "1) This 704,000 purchase is a legitimate purchase and represents a high-end brand or large purchase volume <br/>\n",
    "2) This is a fraudulent purchase  <br/>\n",
    "3) There is a data encoding error and this was inputed as a mistake <br/>\n",
    "\n",
    "Let's explore more of this purchase."
   ]
  },
  {
   "cell_type": "code",
   "execution_count": 4,
   "id": "pressed-module",
   "metadata": {},
   "outputs": [
    {
     "data": {
      "text/html": [
       "<div>\n",
       "<style scoped>\n",
       "    .dataframe tbody tr th:only-of-type {\n",
       "        vertical-align: middle;\n",
       "    }\n",
       "\n",
       "    .dataframe tbody tr th {\n",
       "        vertical-align: top;\n",
       "    }\n",
       "\n",
       "    .dataframe thead th {\n",
       "        text-align: right;\n",
       "    }\n",
       "</style>\n",
       "<table border=\"1\" class=\"dataframe\">\n",
       "  <thead>\n",
       "    <tr style=\"text-align: right;\">\n",
       "      <th></th>\n",
       "      <th>order_id</th>\n",
       "      <th>shop_id</th>\n",
       "      <th>user_id</th>\n",
       "      <th>order_amount</th>\n",
       "      <th>total_items</th>\n",
       "      <th>payment_method</th>\n",
       "      <th>created_at</th>\n",
       "    </tr>\n",
       "  </thead>\n",
       "  <tbody>\n",
       "    <tr>\n",
       "      <th>520</th>\n",
       "      <td>521</td>\n",
       "      <td>42</td>\n",
       "      <td>607</td>\n",
       "      <td>704000</td>\n",
       "      <td>2000</td>\n",
       "      <td>credit_card</td>\n",
       "      <td>2017-03-02 4:00:00</td>\n",
       "    </tr>\n",
       "    <tr>\n",
       "      <th>4646</th>\n",
       "      <td>4647</td>\n",
       "      <td>42</td>\n",
       "      <td>607</td>\n",
       "      <td>704000</td>\n",
       "      <td>2000</td>\n",
       "      <td>credit_card</td>\n",
       "      <td>2017-03-02 4:00:00</td>\n",
       "    </tr>\n",
       "    <tr>\n",
       "      <th>60</th>\n",
       "      <td>61</td>\n",
       "      <td>42</td>\n",
       "      <td>607</td>\n",
       "      <td>704000</td>\n",
       "      <td>2000</td>\n",
       "      <td>credit_card</td>\n",
       "      <td>2017-03-04 4:00:00</td>\n",
       "    </tr>\n",
       "    <tr>\n",
       "      <th>15</th>\n",
       "      <td>16</td>\n",
       "      <td>42</td>\n",
       "      <td>607</td>\n",
       "      <td>704000</td>\n",
       "      <td>2000</td>\n",
       "      <td>credit_card</td>\n",
       "      <td>2017-03-07 4:00:00</td>\n",
       "    </tr>\n",
       "    <tr>\n",
       "      <th>2297</th>\n",
       "      <td>2298</td>\n",
       "      <td>42</td>\n",
       "      <td>607</td>\n",
       "      <td>704000</td>\n",
       "      <td>2000</td>\n",
       "      <td>credit_card</td>\n",
       "      <td>2017-03-07 4:00:00</td>\n",
       "    </tr>\n",
       "  </tbody>\n",
       "</table>\n",
       "</div>"
      ],
      "text/plain": [
       "      order_id  shop_id  user_id  order_amount  total_items payment_method  \\\n",
       "520        521       42      607        704000         2000    credit_card   \n",
       "4646      4647       42      607        704000         2000    credit_card   \n",
       "60          61       42      607        704000         2000    credit_card   \n",
       "15          16       42      607        704000         2000    credit_card   \n",
       "2297      2298       42      607        704000         2000    credit_card   \n",
       "\n",
       "              created_at  \n",
       "520   2017-03-02 4:00:00  \n",
       "4646  2017-03-02 4:00:00  \n",
       "60    2017-03-04 4:00:00  \n",
       "15    2017-03-07 4:00:00  \n",
       "2297  2017-03-07 4:00:00  "
      ]
     },
     "execution_count": 4,
     "metadata": {},
     "output_type": "execute_result"
    }
   ],
   "source": [
    "# Subsets the data for this specific purchase\n",
    "anomly = shoe_data.loc[shoe_data['order_amount'] == 704000].sort_values('created_at').head(5)\n",
    "\n",
    "anomly"
   ]
  },
  {
   "cell_type": "markdown",
   "id": "different-congress",
   "metadata": {},
   "source": [
    "It appears that there are multiple purchases of this nature, occurring regularly at 4 AM throughout the month of March.  While this reoccuring pattern is suspicious, we'd likely need more data (that isn't currently available) to conclude if this is fraudulent.  For now, let's explore if this is potentially a data error or real purchases.  "
   ]
  },
  {
   "cell_type": "code",
   "execution_count": 5,
   "id": "rapid-mexican",
   "metadata": {},
   "outputs": [
    {
     "data": {
      "text/plain": [
       "count        51.000000\n",
       "mean     235101.490196\n",
       "std      334860.641587\n",
       "min         352.000000\n",
       "25%         352.000000\n",
       "50%         704.000000\n",
       "75%      704000.000000\n",
       "max      704000.000000\n",
       "Name: order_amount, dtype: float64"
      ]
     },
     "execution_count": 5,
     "metadata": {},
     "output_type": "execute_result"
    }
   ],
   "source": [
    "# Look into shop 42s order history \n",
    "shoe_data.loc[shoe_data['shop_id'] == 42, 'order_amount'].describe()"
   ]
  },
  {
   "cell_type": "code",
   "execution_count": 6,
   "id": "sustainable-companion",
   "metadata": {},
   "outputs": [
    {
     "data": {
      "text/plain": [
       "704000    17\n",
       "352       15\n",
       "704       13\n",
       "1056       3\n",
       "1408       2\n",
       "1760       1\n",
       "Name: order_amount, dtype: int64"
      ]
     },
     "execution_count": 6,
     "metadata": {},
     "output_type": "execute_result"
    }
   ],
   "source": [
    "# Get a count of all possible values for the store\n",
    "shoe_data.loc[shoe_data['shop_id'] == 42, 'order_amount'].value_counts()"
   ]
  },
  {
   "cell_type": "markdown",
   "id": "impressive-helen",
   "metadata": {},
   "source": [
    "It looks as if the lowest possible order value is $352, which is also equal to 704,000 divided by 2000, so it appears that the calculations are completed correctly. We'll move forward on this assumption that this is a common bulk purchase.  For example, this merchant could be selling to big-box retailers.  \n",
    "\n",
    "Let's take a look if there are any daily factors that might be contributing to the changes in price, we'll look at plots with and without this outlier value."
   ]
  },
  {
   "cell_type": "code",
   "execution_count": 7,
   "id": "biological-princeton",
   "metadata": {},
   "outputs": [
    {
     "data": {
      "image/png": "[encoded data removed]",
      "text/plain": [
       "<Figure size 1080x360 with 1 Axes>"
      ]
     },
     "metadata": {
      "needs_background": "light"
     },
     "output_type": "display_data"
    }
   ],
   "source": [
    "# Gather the date from the created_at field\n",
    "shoe_data['date'] = pd.to_datetime(shoe_data['created_at']).dt.date\n",
    "\n",
    "# Subset data without 704,000 orders and calculate order amount average by day\n",
    "subset = shoe_data.loc[shoe_data['order_amount'] < 704000].groupby('date').agg({'order_amount':'mean'}).reset_index()\n",
    "\n",
    "# Calculate Average order amount by day\n",
    "shoe_data_day = shoe_data.groupby('date').agg({'order_amount':'mean'}).reset_index()\n",
    "\n",
    "plt.figure(figsize = (15,5))\n",
    "\n",
    "# Plots Original Order Amount data\n",
    "sns.lineplot(data = shoe_data_day, x = 'date', y = 'order_amount')\n",
    "\n",
    "# Plots Order Amount Averages by date without Outliers\n",
    "sns.lineplot(data = subset, x = 'date', y = 'order_amount')\n",
    "plt.legend(labels = ['With Outlier', 'Without Outlier'])\n",
    "plt.ylabel('Mean Order Amount')\n",
    "plt.xlabel('Date');"
   ]
  },
  {
   "cell_type": "markdown",
   "id": "civilian-brass",
   "metadata": {},
   "source": [
    "We can see here that this $704,000 purchase group is contributing heavily to influencing the AOV and thus makes it difficult to truly capture the mean spend for a pair of sneakers across these 100 different stores. There are some days (Example March 16th) with slight increases in average price (from the orange line) which might indicate other orders with high amount values. \n",
    "\n",
    "As a last sanity check, we can look at the distribution excluding this large purchase category."
   ]
  },
  {
   "cell_type": "code",
   "execution_count": 8,
   "id": "postal-encounter",
   "metadata": {},
   "outputs": [
    {
     "data": {
      "image/png": "[encoded data removed]",
      "text/plain": [
       "<Figure size 432x288 with 1 Axes>"
      ]
     },
     "metadata": {
      "needs_background": "light"
     },
     "output_type": "display_data"
    }
   ],
   "source": [
    "# Histogram of order values without outliers\n",
    "plt.hist(shoe_data.loc[shoe_data['order_amount'] < 704000, 'order_amount']);"
   ]
  },
  {
   "cell_type": "markdown",
   "id": "dynamic-member",
   "metadata": {},
   "source": [
    "From this simple histogram, we can see that there are other outlier type orders that are also contributing to this large mean value. Let's adjust our histogram again, to consider only the middle 95% of purchases.  "
   ]
  },
  {
   "cell_type": "code",
   "execution_count": 9,
   "id": "accredited-aircraft",
   "metadata": {},
   "outputs": [
    {
     "data": {
      "image/png": "[encoded data removed]",
      "text/plain": [
       "<Figure size 432x288 with 1 Axes>"
      ]
     },
     "metadata": {
      "needs_background": "light"
     },
     "output_type": "display_data"
    }
   ],
   "source": [
    "# Histogram of the middle 95% of orders completed\n",
    "plt.hist(shoe_data.loc[(shoe_data.order_amount >= shoe_data.order_amount.quantile(0.025)) & \n",
    "              (shoe_data.order_amount <= shoe_data.order_amount.quantile(0.975)), 'order_amount']);"
   ]
  },
  {
   "cell_type": "markdown",
   "id": "ambient-insulation",
   "metadata": {},
   "source": [
    "Here we can see that 95% of the purchases are falling within 100-800 dollars, so any metric that we report should capture this information., as it represents a large majority of the orders."
   ]
  },
  {
   "cell_type": "markdown",
   "id": "bottom-sweden",
   "metadata": {},
   "source": [
    "## 2. What metric would you report for this dataset?"
   ]
  },
  {
   "cell_type": "markdown",
   "id": "greatest-underground",
   "metadata": {},
   "source": [
    "One of the major flaws from the original approach is that mean is not a robust measure, meaning it is susceptible to outliers. With this in mind, there are a few alternative ways to approach reporting a new metric."
   ]
  },
  {
   "cell_type": "code",
   "execution_count": 10,
   "id": "helpful-digest",
   "metadata": {},
   "outputs": [
    {
     "data": {
      "text/plain": [
       "387.7428"
      ]
     },
     "execution_count": 10,
     "metadata": {},
     "output_type": "execute_result"
    }
   ],
   "source": [
    "# Average Shoe Price\n",
    "shoe_data['shoe_cost'] = shoe_data['order_amount'] / shoe_data['total_items']\n",
    "shoe_data['shoe_cost'].mean()"
   ]
  },
  {
   "cell_type": "markdown",
   "id": "computational-arthur",
   "metadata": {},
   "source": [
    "This average shoe price value could be useful for merchants trying to determine how to price their shoes against the competitors with Shopify stores. However, this approach is rather simple and naive as it doesn't consider order volume and could be susceptible to those large sneaker amounts."
   ]
  },
  {
   "cell_type": "code",
   "execution_count": 11,
   "id": "relative-darwin",
   "metadata": {},
   "outputs": [
    {
     "data": {
      "text/plain": [
       "284.0"
      ]
     },
     "execution_count": 11,
     "metadata": {},
     "output_type": "execute_result"
    }
   ],
   "source": [
    "# MOV, median order value\n",
    "shoe_data['order_amount'].median()"
   ]
  },
  {
   "cell_type": "code",
   "execution_count": 12,
   "id": "determined-special",
   "metadata": {},
   "outputs": [
    {
     "data": {
      "text/plain": [
       "payment_method\n",
       "cash           281\n",
       "credit_card    288\n",
       "debit          290\n",
       "Name: order_amount, dtype: int64"
      ]
     },
     "execution_count": 12,
     "metadata": {},
     "output_type": "execute_result"
    }
   ],
   "source": [
    "shoe_data.groupby('payment_method')['order_amount'].median()"
   ]
  },
  {
   "cell_type": "markdown",
   "id": "utility-wesley",
   "metadata": {},
   "source": [
    "This median gives a more appropriate view of the average order cost, as it considers the distribution of the data.  However, there are other metrics that we can use and package that might drive valuable insights."
   ]
  },
  {
   "cell_type": "code",
   "execution_count": 13,
   "id": "moderate-broadcast",
   "metadata": {},
   "outputs": [
    {
     "name": "stdout",
     "output_type": "stream",
     "text": [
      "122.0\n",
      "640.0\n",
      "1.0\n",
      "4.0\n"
     ]
    }
   ],
   "source": [
    "# Quartile Range Approach\n",
    "print(shoe_data['order_amount'].quantile(0.05))\n",
    "print(shoe_data['order_amount'].quantile(0.95))\n",
    "\n",
    "print(shoe_data['total_items'].quantile(0.05))\n",
    "print(shoe_data['total_items'].quantile(0.95))"
   ]
  },
  {
   "cell_type": "markdown",
   "id": "otherwise-scanning",
   "metadata": {},
   "source": [
    "This quantile approach tells us the total amounts and items for the middle 90% of orders. Here we can see that 90% of orders fall between 122 to 640 dollars, with those customers typically ordering between 1 and 4 shoes.\n",
    "\n",
    "However, I think we can package this data further, by segmenting merchants based on shoe cost and average item sizes to define median values for this specific groups.  This way we can group together merchants that are similar in nature and calculate their median order value as a more targeted approach. I'll use a scatterplot below to demonstrate (for visualizations purposes, I will limit the axis to draw a better view without the outliers): "
   ]
  },
  {
   "cell_type": "code",
   "execution_count": 14,
   "id": "nutritional-antibody",
   "metadata": {},
   "outputs": [],
   "source": [
    "# Copy Data\n",
    "segment = shoe_data.copy()\n",
    "\n",
    "# Calculate the total for each shoe\n",
    "segment['shoe_cost'] = segment['order_amount'] / segment['total_items']"
   ]
  },
  {
   "cell_type": "code",
   "execution_count": 15,
   "id": "sufficient-awareness",
   "metadata": {},
   "outputs": [
    {
     "data": {
      "image/png": "[encoded data removed]",
      "text/plain": [
       "<Figure size 1080x360 with 1 Axes>"
      ]
     },
     "metadata": {
      "needs_background": "light"
     },
     "output_type": "display_data"
    }
   ],
   "source": [
    "# Group by Shop and calculate average quantity of orders\n",
    "subs = segment.groupby('shop_id').agg({'total_items':'mean', 'shoe_cost':'mean'})\n",
    "\n",
    "plt.figure(figsize = (15,5));\n",
    "\n",
    "# Plots Shoe cost by average order quantity\n",
    "sns.scatterplot(data = subs, x = 'total_items', y = 'shoe_cost')\n",
    "plt.xlim(1.7,2.4);\n",
    "plt.ylim(80, 200);\n",
    "plt.xlabel('Average Order Quantity');\n",
    "plt.ylabel('Shoe Cost');"
   ]
  },
  {
   "cell_type": "markdown",
   "id": "continuing-cover",
   "metadata": {},
   "source": [
    "Here, we've plotted the sneaker cost to the average order quantity for each merchant.  We can see there is some variety in the cost of the sneaker and how many sneakers are purchased per order. Using this plot, we could define 4 quadrants grouping merchants based on if they have high or low order volume and if they offer cheap or expensive sneakers. I'll re-plot with these assigned groups based on shoe cost and average order quantity."
   ]
  },
  {
   "cell_type": "code",
   "execution_count": 16,
   "id": "secondary-pound",
   "metadata": {},
   "outputs": [
    {
     "data": {
      "image/png": "[encoded data removed]",
      "text/plain": [
       "<Figure size 1080x360 with 1 Axes>"
      ]
     },
     "metadata": {
      "needs_background": "light"
     },
     "output_type": "display_data"
    }
   ],
   "source": [
    "subs = segment.groupby('shop_id').agg({'total_items':'mean', 'shoe_cost':'mean'}).reset_index()\n",
    "\n",
    "# Assigns merchants to groups based on quantile values \n",
    "subs['Group'] = np.where(subs['total_items'] < subs['total_items'].quantile(0.5), \n",
    "                np.where(subs['shoe_cost'] > subs['shoe_cost'].quantile(0.5), 'High Cost, Low Quantity',\n",
    "                                                                              'Low Cost, Low Quantity'), \n",
    "                np.where(subs['shoe_cost'] > subs['shoe_cost'].quantile(0.5), 'High Cost, High Quantity',\n",
    "                                                                              'Low Cost, High Quantity'))\n",
    "                    \n",
    "\n",
    "plt.figure(figsize = (15,5));\n",
    "# Plots Shoe cost by average order quantity\n",
    "sns.scatterplot(data = subs, x = 'total_items', y = 'shoe_cost', hue = 'Group')\n",
    "plt.xlim(1.7,2.4);\n",
    "plt.ylim(80, 200);\n",
    "plt.xlabel('Average Order Quantity');\n",
    "plt.ylabel('Shoe Cost');"
   ]
  },
  {
   "cell_type": "markdown",
   "id": "racial-occasions",
   "metadata": {},
   "source": [
    "Here we can clearly see four distinct groups: Low Cost, Low Quantity or Low Cost, High Quantity or High Cost, Low Quantity or High Cost, High Quantity.  These groups capture merchants that are similar based on their price points and order quantities.  With these defined groups, we can now use the original MOV calculation to find averages for these specific groups. "
   ]
  },
  {
   "cell_type": "code",
   "execution_count": 17,
   "id": "informational-phone",
   "metadata": {},
   "outputs": [
    {
     "data": {
      "text/plain": [
       "Group\n",
       "High Cost, High Quantity    330\n",
       "High Cost, Low Quantity     328\n",
       "Low Cost, High Quantity     268\n",
       "Low Cost, Low Quantity      224\n",
       "Name: order_amount, dtype: int64"
      ]
     },
     "execution_count": 17,
     "metadata": {},
     "output_type": "execute_result"
    }
   ],
   "source": [
    "# Merges with original data with groups and calculates MOV for grouped merchants\n",
    "new_shoe_data = pd.merge(subs[['shop_id', 'Group']], shoe_data, on = 'shop_id')\n",
    "new_shoe_data.groupby('Group')['order_amount'].median()"
   ]
  },
  {
   "cell_type": "markdown",
   "id": "infinite-delaware",
   "metadata": {},
   "source": [
    "Using these four groups, we can have a more accurate representation of the median order cost, because not all merchants that sell shoes will be targeting the same market. This level of exploratory data analysis can be packaged and presented to merchants in a Consumer report that will help guide them into making better decisions for their business."
   ]
  },
  {
   "cell_type": "markdown",
   "id": "competent-smell",
   "metadata": {},
   "source": [
    "This represents one method and approach to segmenetation. Given more time, We could use a more advanced algorithm, like K-means, or choose to segment based on different criteria, or segment based on order dates or the customers. This segmentation approach will open many more oppurtunities to develop targeted KPIs that can inform our merchant population and help merchants make more informed decisions for their sites. "
   ]
  },
  {
   "cell_type": "markdown",
   "id": "viral-stevens",
   "metadata": {},
   "source": [
    "## 3. What is its value?\n",
    "\n",
    "By a simple cost per pair of shoe approach: **387.74 dollar cost per shoe**\n",
    "    \n",
    "A simple median order value approach (MOV): **284.0 dollars**\n",
    "\n",
    "A simple range of values based on quantiles: **90% of orders fall between 122 - 640 dollars, purchasing on average between 1 to 4 pairs of shoes.**\n",
    "\n",
    "Merchant Segmentation Approach: <br/>\n",
    "High Cost, High Quantity Merchants MOV: **330 dollars <br/>**\n",
    "High Cost, Low Quantity Merchants MOV: **328 dollars <br/>**\n",
    "Low Cost, Low Quantity Merchants MOV: **224 dollars <br/>**\n",
    "Low Cost, High Quantity Merchants: MOV: **268 dollars <br/>**"
   ]
  },
  {
   "cell_type": "markdown",
   "id": "naval-authority",
   "metadata": {},
   "source": [
    "## Question 2: For this question you’ll need to use SQL. Follow this link to access the data set required for the challenge. Please use queries to answer the following questions. Paste your queries along with your final numerical answers below.\n",
    "\n",
    "1. How many orders were shipped by Speedy Express in total?\n",
    "\n",
    "**There were 54 orders shipped by Speedy Express in total.**\n",
    "\n",
    "```SQL\n",
    "SELECT s.shipperName, COUNT(o.orderID) AS TotalOrders\n",
    "FROM Orders o\n",
    "LEFT JOIN Shippers s ON s.ShipperID = o.ShipperID\n",
    "WHERE s.shipperName = 'Speedy Express'\n",
    "GROUP BY s.shipperName\n",
    "```"
   ]
  },
  {
   "cell_type": "markdown",
   "id": "multiple-luxury",
   "metadata": {},
   "source": [
    "2. What is the last name of the employee with the most orders?\n",
    "\n",
    "**Peacock has the most orders with 40.**\n",
    "\n",
    "```SQL\n",
    "SELECT e.EmployeeID, e.LastName, COUNT(o.OrderID) AS TotalOrders\n",
    "FROM Orders o\n",
    "LEFT JOIN Employees e ON e.EmployeeID = o.EmployeeID\n",
    "GROUP BY e.EmployeeID, e.LastName\n",
    "ORDER BY COUNT(o.OrderID) DESC\n",
    "LIMIT 1\n",
    "```\n",
    "\n",
    "**W3Schools interface doesn't work with Common Table Expressions, but generally I would solve this query in this way (in the edge case that two employees had 40 orders):**\n",
    "```SQL\n",
    "WITH cte AS (SELECT e.EmployeeID, e.LastName, COUNT(o.OrderID) AS TotalOrders\n",
    "FROM Orders o\n",
    "LEFT JOIN Employees e ON e.EmployeeID = o.EmployeeID\n",
    "GROUP BY e.EmployeeID, e.LastName)\n",
    "SELECT LastName, TotalOrders\n",
    "FROM cte\n",
    "WHERE TotalOrders = (SELECT MAX(TotalOrders) FROM cte)\n",
    "```"
   ]
  },
  {
   "cell_type": "markdown",
   "id": "cellular-cooperative",
   "metadata": {},
   "source": [
    "3. What product was ordered the most by customers in Germany?\n",
    "\n",
    "If this question is referring to each time the product was apart of an individual order then the answer would be: \n",
    "\n",
    "**Gorgonzola Telino with 5 different orders**\n",
    "\n",
    "```SQL\n",
    "SELECT p.ProductName, COUNT(o.OrderID) AS TotalOrders\n",
    "FROM ( ( ( Orders o LEFT JOIN Customers c on o.CustomerID = c.CustomerID )\n",
    "     \t  LEFT JOIN OrderDetails od on od.OrderID = o.OrderID )\n",
    "    \t  LEFT JOIN Products p on p.ProductID = od.ProductID )\n",
    "WHERE c.Country = 'Germany'\n",
    "GROUP BY p.ProductName\n",
    "ORDER BY COUNT(o.OrderID) DESC\n",
    "LIMIT 1\n",
    "```\n",
    "\n",
    "However, if this question is referring to the product that had the highest total quantity then the answer would be: \n",
    "\n",
    "**Boston Crab Meat with 160 total units purchased**\n",
    "\n",
    "```SQL\n",
    "SELECT p.ProductName, SUM(od.Quantity) AS TotalQuantity\n",
    "FROM ( ( ( Orders o LEFT JOIN Customers c on o.CustomerID = c.CustomerID )\n",
    "     \t  LEFT JOIN OrderDetails od on od.OrderID = o.OrderID )\n",
    "    \t  LEFT JOIN Products p on p.ProductID = od.ProductID )\n",
    "WHERE c.Country = 'Germany'\n",
    "GROUP BY p.ProductName\n",
    "ORDER BY SUM(od.Quantity) DESC\n",
    "LIMIT 1\n",
    "```\n",
    "\n",
    "The W3Schools Interface isn't allowing me to complete multiple joins in my traditional way (Postgres SQL), generally I would explicitly state each LEFT JOIN and alias the tables. Additionally, like the issue mentioned above in Question 2, I would use common table expressions and the last WHERE statement with subqueries finding the MAX to solve this problem."
   ]
  }
 ],
 "metadata": {
  "kernelspec": {
   "display_name": "Python 3",
   "language": "python",
   "name": "python3"
  },
  "language_info": {
   "codemirror_mode": {
    "name": "ipython",
    "version": 3
   },
   "file_extension": ".py",
   "mimetype": "text/x-python",
   "name": "python",
   "nbconvert_exporter": "python",
   "pygments_lexer": "ipython3",
   "version": "3.7.6"
  }
 },
 "nbformat": 4,
 "nbformat_minor": 5
}
